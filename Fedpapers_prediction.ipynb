{
 "cells": [
  {
   "cell_type": "code",
   "execution_count": 1,
   "metadata": {},
   "outputs": [],
   "source": [
    "import numpy as np\n",
    "import json\n",
    "from sklearn.feature_extraction import text\n",
    "\n",
    "x = open('fedpapers_split.txt').read()\n",
    "papers = json.loads(x)\n",
    "\n",
    "papersH = papers[0] # papers by Hamilton \n",
    "papersM = papers[1] # papers by Madison\n",
    "papersD = papers[2] # disputed papers\n",
    "\n",
    "nH, nM, nD = len(papersH), len(papersM), len(papersD)\n",
    "\n",
    "# This allows you to ignore certain common words in English\n",
    "# You may want to experiment by choosing the second option or your own\n",
    "# list of stop words, but be sure to keep 'HAMILTON' and 'MADISON' in\n",
    "# this list at a minimum, as their names appear in the text of the papers\n",
    "# and leaving them in could lead to unpredictable results\n",
    "stop_words = text.ENGLISH_STOP_WORDS.union({'HAMILTON','MADISON'})\n",
    "#stop_words = {'HAMILTON','MADISON'}\n",
    "\n",
    "## Form bag of words model using words used at least 10 times\n",
    "vectorizer = text.CountVectorizer(stop_words=stop_words,min_df=10)\n",
    "X = vectorizer.fit_transform(papersH+papersM+papersD).toarray()\n",
    "\n",
    "# Uncomment this line to see the full list of words remaining after filtering out \n",
    "# stop words and words used less than min_df times\n",
    "#vectorizer.vocabulary_\n",
    "\n",
    "# Split word counts into separate matrices\n",
    "XH, XM, XD = X[:nH,:], X[nH:nH+nM,:], X[nH+nM:,:]\n",
    "\n",
    "# Estimate probability of each word in vocabulary being used by Hamilton\n",
    "\n",
    "# Estimate probability of each word in vocabulary being used by Madison\n",
    "\n",
    "# Compute prior probabilities \n",
    "# Estimate probability of each word in vocabulary being used by Hamilton\n",
    "fH = (np.sum(XH,axis=0)+1)/(np.sum(XH)+len(X[0]))\n",
    "\n",
    "# Estimate probability of each word in vocabulary being used by Madison\n",
    "fM = (np.sum(XM,axis=0)+1)/(np.sum(XM)+len(X[0]))\n",
    "# Compare classes probabilities\n",
    "\n",
    "    "
   ]
  },
  {
   "cell_type": "code",
   "execution_count": 2,
   "metadata": {},
   "outputs": [],
   "source": [
    "piH = nH/(nH+nM)\n",
    "piM = nM/(nH+nM)"
   ]
  },
  {
   "cell_type": "code",
   "execution_count": 3,
   "metadata": {},
   "outputs": [
    {
     "name": "stdout",
     "output_type": "stream",
     "text": [
      "Madison\n",
      "Madison\n",
      "Madison\n",
      "Madison\n",
      "Hamilton\n",
      "Hamilton\n",
      "Madison\n",
      "Hamilton\n",
      "Hamilton\n",
      "Madison\n",
      "Madison\n",
      "Madison\n"
     ]
    }
   ],
   "source": [
    "for xd in XD: # Iterate over disputed documents\n",
    "\n",
    "    pH =np.log(piH)+np.sum(xd*np.log(fH))\n",
    "    pM = np.log(piM)+np.sum(xd*np.log(fM))\n",
    "    if pH>pM:\n",
    "        print( 'Hamilton')\n",
    "    else:\n",
    "        print ('Madison')"
   ]
  },
  {
   "cell_type": "code",
   "execution_count": null,
   "metadata": {},
   "outputs": [],
   "source": []
  }
 ],
 "metadata": {
  "kernelspec": {
   "display_name": "Python 3",
   "language": "python",
   "name": "python3"
  },
  "language_info": {
   "codemirror_mode": {
    "name": "ipython",
    "version": 3
   },
   "file_extension": ".py",
   "mimetype": "text/x-python",
   "name": "python",
   "nbconvert_exporter": "python",
   "pygments_lexer": "ipython3",
   "version": "3.6.8"
  }
 },
 "nbformat": 4,
 "nbformat_minor": 2
}
